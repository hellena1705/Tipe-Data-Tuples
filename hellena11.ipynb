{
 "cells": [
  {
   "cell_type": "code",
   "execution_count": 1,
   "id": "89b2151c-4a9d-417b-a7ce-3ac1ce308c86",
   "metadata": {},
   "outputs": [
    {
     "name": "stdin",
     "output_type": "stream",
     "text": [
      "Masukkan elemen tuple (pisahkan dengan koma):  50,50,50,50\n"
     ]
    },
    {
     "name": "stdout",
     "output_type": "stream",
     "text": [
      "True\n"
     ]
    }
   ],
   "source": [
    "def cek_sama(tup):\n",
    "    return all(elem == tup[0] for elem in tup)\n",
    "\n",
    "def main():\n",
    "    \n",
    "    input_tuple = input(\"Masukkan elemen tuple (pisahkan dengan koma): \")\n",
    "    \n",
    "    user_tuple = tuple(map(int, input_tuple.split(',')))\n",
    "    \n",
    "    if cek_sama(user_tuple):\n",
    "        print(\"True\")\n",
    "    else:\n",
    "        print(\"False\")\n",
    "\n",
    "if __name__ == \"__main__\":\n",
    "    main()"
   ]
  },
  {
   "cell_type": "code",
   "execution_count": 2,
   "id": "a1f05a62-a596-4112-a1d3-64181ac3fb86",
   "metadata": {},
   "outputs": [
    {
     "name": "stdout",
     "output_type": "stream",
     "text": [
      "Masukkan data diri Anda sesuai dengan format berikut:\n",
      "Data: ('Nama Anda', 'NIM Anda', 'Alamat Anda')\n"
     ]
    },
    {
     "name": "stdin",
     "output_type": "stream",
     "text": [
      "Masukkan data:   ('Matahari Bhakti Nendya', '22064091', 'Bantul, DI Yogyakarta')\n"
     ]
    },
    {
     "name": "stdout",
     "output_type": "stream",
     "text": [
      "NIM : 22064091\n",
      "NAMA : Matahari Bhakti Nendya\n",
      "ALAMAT : Bantul, DI Yogyakarta\n",
      "NIM: ('2', '2', '0', '6', '4', '0', '9', '1')\n",
      "NAMA DEPAN: ('M', 'a', 't', 'a', 'h', 'a', 'r', 'i')\n",
      "NAMA TERBALIK: ('Nendya', 'Bhakti', 'Matahari')\n"
     ]
    }
   ],
   "source": [
    "def main():\n",
    "    print(\"Masukkan data diri Anda sesuai dengan format berikut:\")\n",
    "    print(\"Data: ('Nama Anda', 'NIM Anda', 'Alamat Anda')\")\n",
    "    data_input = input(\"Masukkan data: \")\n",
    "\n",
    "    data_diri = eval(data_input)\n",
    "\n",
    "    print(\"NIM :\", data_diri[1])\n",
    "    print(\"NAMA :\", data_diri[0])\n",
    "    print(\"ALAMAT :\", data_diri[2])\n",
    "\n",
    "    nim_tuple = tuple(data_diri[1])\n",
    "    nama_depan_tuple = tuple(data_diri[0].split()[0])\n",
    "    nama_terbalik_tuple = tuple(data_diri[0].split()[::-1])\n",
    "\n",
    "    print(\"NIM:\", nim_tuple)\n",
    "    print(\"NAMA DEPAN:\", nama_depan_tuple)\n",
    "    print(\"NAMA TERBALIK:\", nama_terbalik_tuple)\n",
    "\n",
    "if __name__ == \"__main__\":\n",
    "    main()\n"
   ]
  },
  {
   "cell_type": "code",
   "execution_count": 4,
   "id": "13f8afd6-9161-415b-ad5c-871357d05a09",
   "metadata": {},
   "outputs": [
    {
     "name": "stdin",
     "output_type": "stream",
     "text": [
      "Masukkan nama file:  mbox-short.txt\n"
     ]
    },
    {
     "name": "stdout",
     "output_type": "stream",
     "text": [
      "04 3\n",
      "06 1\n",
      "07 1\n",
      "09 2\n",
      "10 3\n",
      "11 6\n",
      "14 1\n",
      "15 2\n",
      "16 4\n",
      "17 2\n",
      "18 1\n",
      "19 1\n"
     ]
    }
   ],
   "source": [
    "def count_email_hours(filename):\n",
    "    try:\n",
    "        with open(filename, 'r') as file:\n",
    "            email_hours = dict()\n",
    "\n",
    "            for line in file:\n",
    "                if line.startswith(\"From \"):\n",
    "                    words = line.split()\n",
    "                    time = words[5].split(\":\")\n",
    "                    hour = time[0]\n",
    "                    email_hours[hour] = email_hours.get(hour, 0) + 1\n",
    "\n",
    "            for hour, count in sorted(email_hours.items()):\n",
    "                print(hour, count)\n",
    "\n",
    "    except FileNotFoundError:\n",
    "        print(\"File not found.\")\n",
    "\n",
    "def main():\n",
    "    filename = input(\"Masukkan nama file: \")\n",
    "\n",
    "    count_email_hours(filename)\n",
    "\n",
    "if __name__ == \"__main__\":\n",
    "    main()\n"
   ]
  },
  {
   "cell_type": "code",
   "execution_count": null,
   "id": "18afe1b3-b2f4-42fd-a2b8-50d89f7480d2",
   "metadata": {},
   "outputs": [],
   "source": []
  }
 ],
 "metadata": {
  "kernelspec": {
   "display_name": "Python 3 (ipykernel)",
   "language": "python",
   "name": "python3"
  },
  "language_info": {
   "codemirror_mode": {
    "name": "ipython",
    "version": 3
   },
   "file_extension": ".py",
   "mimetype": "text/x-python",
   "name": "python",
   "nbconvert_exporter": "python",
   "pygments_lexer": "ipython3",
   "version": "3.11.7"
  }
 },
 "nbformat": 4,
 "nbformat_minor": 5
}
